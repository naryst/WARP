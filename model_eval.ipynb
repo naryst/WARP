{
 "cells": [
  {
   "cell_type": "code",
   "execution_count": 7,
   "metadata": {},
   "outputs": [],
   "source": [
    "import datasets\n",
    "import torch\n",
    "from transformers import (\n",
    "    AutoModelForCausalLM, \n",
    "    AutoModelForSequenceClassification, \n",
    "    AutoTokenizer,\n",
    ")\n",
    "from warp import get_policies, get_score, get_kl"
   ]
  },
  {
   "cell_type": "code",
   "execution_count": 4,
   "metadata": {},
   "outputs": [],
   "source": [
    "data = datasets.load_from_disk('prompts_dataset_tokenized_test')\n",
    "SAMPLES = 100\n",
    "rand_inds = torch.randint(low=0, high=len(data), size=(SAMPLES,))\n",
    "test_prompts = data['prompt_input_ids'][rand_inds]"
   ]
  },
  {
   "cell_type": "code",
   "execution_count": 8,
   "metadata": {},
   "outputs": [],
   "source": [
    "model = AutoModelForCausalLM.from_pretrained('trained_warp_model')\n",
    "sft_model = AutoModelForCausalLM.from_pretrained('lvwerra/gpt2-imdb')\n",
    "tokenizer = AutoTokenizer.from_pretrained('trained_warp_model')"
   ]
  },
  {
   "cell_type": "code",
   "execution_count": null,
   "metadata": {},
   "outputs": [],
   "source": []
  }
 ],
 "metadata": {
  "kernelspec": {
   "display_name": "allignment",
   "language": "python",
   "name": "python3"
  },
  "language_info": {
   "codemirror_mode": {
    "name": "ipython",
    "version": 3
   },
   "file_extension": ".py",
   "mimetype": "text/x-python",
   "name": "python",
   "nbconvert_exporter": "python",
   "pygments_lexer": "ipython3",
   "version": "3.10.14"
  }
 },
 "nbformat": 4,
 "nbformat_minor": 2
}
