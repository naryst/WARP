{
 "cells": [
  {
   "cell_type": "code",
   "execution_count": 7,
   "metadata": {},
   "outputs": [],
   "source": [
    "import datasets\n",
    "from transformers import AutoTokenizer\n",
    "import torch"
   ]
  },
  {
   "cell_type": "code",
   "execution_count": 8,
   "metadata": {},
   "outputs": [],
   "source": [
    "data = datasets.load_dataset(\"stanfordnlp/imdb\")['test']\n",
    "# Так как промпты составляются для генератора, то берем его токенайзер\n",
    "tokenizer = AutoTokenizer.from_pretrained(\"lvwerra/gpt2-imdb\")"
   ]
  },
  {
   "cell_type": "code",
   "execution_count": 9,
   "metadata": {},
   "outputs": [],
   "source": [
    "tokenizer.pad_token_id = tokenizer.unk_token_id # Изначально в токенайзере нет pad токена. Можно поставить любое значение, так как все равно потом от него избавимся"
   ]
  },
  {
   "cell_type": "code",
   "execution_count": 10,
   "metadata": {},
   "outputs": [
    {
     "data": {
      "application/vnd.jupyter.widget-view+json": {
       "model_id": "2e81f29672c647938e84170b3a5560ae",
       "version_major": 2,
       "version_minor": 0
      },
      "text/plain": [
       "Map (num_proc=16):   0%|          | 0/25000 [00:00<?, ? examples/s]"
      ]
     },
     "metadata": {},
     "output_type": "display_data"
    }
   ],
   "source": [
    "def tokenize_sample(sample, prompt_tokens_count=7):\n",
    "    tokenized_prompt = tokenizer(sample['text'], padding='max_length', truncation=True, return_tensors='pt')\n",
    "    tokenized_prompt['input_ids'] = tokenized_prompt['input_ids'][:, :prompt_tokens_count]\n",
    "    tokenized_prompt['attention_mask'] = tokenized_prompt['attention_mask'][:,:prompt_tokens_count]\n",
    "    ones_tensor = torch.ones_like(tokenized_prompt['attention_mask'], dtype=torch.int64)\n",
    "    assert torch.equal(tokenized_prompt['attention_mask'], ones_tensor) # проверка, что все промпты имеют равное количество токенов\n",
    "    sample['prompt_input_ids'] = tokenized_prompt['input_ids']\n",
    "    sample['prompt_attention_mask'] = tokenized_prompt['attention_mask']\n",
    "    return sample\n",
    "\n",
    "data = data.map(tokenize_sample, num_proc=16, batched=True, batch_size=64)\n",
    "data.set_format('torch')"
   ]
  },
  {
   "cell_type": "code",
   "execution_count": 11,
   "metadata": {},
   "outputs": [
    {
     "data": {
      "application/vnd.jupyter.widget-view+json": {
       "model_id": "e99e8e45bb5342a39fff84fb60b3804c",
       "version_major": 2,
       "version_minor": 0
      },
      "text/plain": [
       "Saving the dataset (0/1 shards):   0%|          | 0/25000 [00:00<?, ? examples/s]"
      ]
     },
     "metadata": {},
     "output_type": "display_data"
    }
   ],
   "source": [
    "data.save_to_disk('../prompts_dataset_tokenized_test')"
   ]
  }
 ],
 "metadata": {
  "kernelspec": {
   "display_name": "allignment",
   "language": "python",
   "name": "python3"
  },
  "language_info": {
   "codemirror_mode": {
    "name": "ipython",
    "version": 3
   },
   "file_extension": ".py",
   "mimetype": "text/x-python",
   "name": "python",
   "nbconvert_exporter": "python",
   "pygments_lexer": "ipython3",
   "version": "3.10.14"
  }
 },
 "nbformat": 4,
 "nbformat_minor": 2
}
